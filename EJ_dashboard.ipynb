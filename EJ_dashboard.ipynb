{
 "cells": [
  {
   "cell_type": "code",
   "execution_count": null,
   "id": "3e9f9e93",
   "metadata": {
    "scrolled": true
   },
   "outputs": [],
   "source": [
    "#import cftime\n",
    "\n",
    "import pandas as pd\n",
    "import geopandas as gpd\n",
    "import folium\n",
    "from folium.plugins import Fullscreen\n",
    "import panel as pn\n",
    "import holoviews as hv\n",
    "import hvplot.pandas \n",
    "\n",
    "import matplotlib as plt\n",
    "%matplotlib inline\n",
    "pn.extension('tabulator')\n",
    "from panel.interact import interact\n",
    "import param\n",
    "pn.extension(sizing_mode=\"stretch_width\", server=True)\n"
   ]
  },
  {
   "cell_type": "code",
   "execution_count": null,
   "id": "4c60cc29",
   "metadata": {},
   "outputs": [],
   "source": [
    "stats = pd.read_csv(\"data/stats_merged.csv\",encoding=\"utf-8\") # social statistics\n",
    "admin = gpd.read_file(\"data/Stadtteile_Hamburg.shp\",crs=\"EPSG:25832\") # boundary dataset \n",
    "noise = pd.read_csv(\"data/admin_noise.csv\",encoding=\"utf-8\") # social statistics\n",
    "\n",
    "#combined_indicators = pd.read_csv(\"data/combined_indicators.csv\",encoding=\"utf-8\") # social statistics"
   ]
  },
  {
   "cell_type": "code",
   "execution_count": null,
   "id": "1fee7823",
   "metadata": {},
   "outputs": [],
   "source": [
    "#drop unrelevant columns\n",
    "stats.drop(columns=['geometry_x','geometry_y', 'geometry','bezirk_nam_x', 'bezirk_nam_y', 'ZONE_CODE', 'COUNT', 'AREA', 'MIN','MAX', 'RANGE'], inplace=True);\n"
   ]
  },
  {
   "cell_type": "code",
   "execution_count": null,
   "id": "b449d77b",
   "metadata": {},
   "outputs": [],
   "source": [
    "admin_stats = pd.merge(admin, stats, left_index=True, right_index=True) # merge data\n"
   ]
  },
  {
   "cell_type": "code",
   "execution_count": null,
   "id": "45b04a47",
   "metadata": {},
   "outputs": [],
   "source": [
    "\"\"\"-----Function to add a status column  --- \"\"\"\n",
    "\n",
    "def add_status_column(df, perc_col): #The function will be used for all of the different indicators)\n",
    "    \"\"\"The function adds a text column to the dataframe. The value of the text column is assigned based\n",
    "        on the values of the classified \"_percentile column\"\n",
    "\n",
    "    Parameters: \n",
    "        df : dataframe used for the classification\n",
    "        perc_col: Column used to assign te the text values: NEEDS to be a categorial variable, resulting from the \n",
    "        \"percentile functions\" Has to take the classified column:result of func percentile as input\n",
    "        \n",
    "    Returns:\n",
    "        A dataframe with a new column called \"status\" containing strings with the values from \"very low\" to \"very high\"\n",
    "        Assignes the names based on the values in the perc_col\n",
    "        \n",
    "    Apply the functin:\n",
    "        Example: add_status_column(dataframe, 'columnName') # \n",
    "\n",
    "    \"\"\"\n",
    "    df['status'] = ['very low' if x == 0 else  #creates the new column \"status and then adds text description to the corresponding value\"\n",
    "                   'low' if x == 1 else\n",
    "                   'medium' if x == 2 else\n",
    "                   'high' if x == 3 else\n",
    "                   'very high' for x in df[perc_col]]\n",
    "\n",
    "    return df.head()"
   ]
  },
  {
   "cell_type": "code",
   "execution_count": null,
   "id": "995a0445",
   "metadata": {},
   "outputs": [],
   "source": [
    "add_status_column(admin_stats, 'combined_indicators_percentile'); #add a new column to the frame"
   ]
  },
  {
   "cell_type": "code",
   "execution_count": null,
   "id": "2488ea2d",
   "metadata": {},
   "outputs": [],
   "source": [
    "#reporjct admin stats layer\n",
    "admin_stats_reproj=admin_stats.to_crs(epsg=25832)"
   ]
  },
  {
   "cell_type": "code",
   "execution_count": null,
   "id": "3b6da3eb",
   "metadata": {},
   "outputs": [],
   "source": [
    "#subset dataframe\n",
    "stats_to_plot = admin_stats[['district','geometry','qt_soc_stats','status','weighted_area_percentile', 'z_area_per_inhbt_percentile','MEDIAN_percentile','env_multiple_burden_percentile', 'combined_indicators_percentile']]"
   ]
  },
  {
   "cell_type": "code",
   "execution_count": null,
   "id": "a37c2cf5",
   "metadata": {},
   "outputs": [],
   "source": [
    "#rename\n",
    "stats_to_plot_rename=stats_to_plot.rename(columns={\"district\":\"District\",\"weighted_area_percentile\":\"Noise Pollution\",\"z_area_per_inhbt_percentile\":\"Green Area Supply \",\"MEDIAN_percentile\":\"Thermal Burden\",\"env_multiple_burden_percentile\":\"Combined Environmental Burden\" , \"combined_indicators_percentile\":\"Combined Indicators\", \"status\":\"Integrated Environmental & Social Status Index\",\"qt_soc_stats\":\"Social Status\"})"
   ]
  },
  {
   "cell_type": "code",
   "execution_count": null,
   "id": "ec200f2c",
   "metadata": {},
   "outputs": [],
   "source": [
    "#drop NaN and reproj to Hamburg CRS\n",
    "stats_to_plot_rename.dropna(inplace=True);\n",
    "stats_to_plot_reproj=stats_to_plot_rename.to_crs(epsg=25832)"
   ]
  },
  {
   "cell_type": "code",
   "execution_count": null,
   "id": "bde8c315",
   "metadata": {},
   "outputs": [],
   "source": [
    "#subset data to show map with green areas and rename\n",
    "greens_subset = admin_stats_reproj[['district','geometry', 'bezirk_nam','green_area_total_ha','green_area_mean_ha', 'green_space_count','z_area_per_inhbt', 'z_perc_green_area','z_area_per_inhbt_percentile']]\n",
    "\n",
    "greens_subset=greens_subset.rename(columns={'district':'District', 'bezirk_nam':'Admin1','green_area_total_ha':'Total Green Area','green_area_mean_ha':'Mean Green Area', 'green_space_count':'Count of Green Areas','z_area_per_inhbt':'Green Area per inhabitant(sqm)', 'z_perc_green_area':'%of Green Area','z_area_per_inhbt_percentile':'Percentile Ranking Green Area per inhabitant'})\n",
    "greens_subset.dropna(inplace=True);\n"
   ]
  },
  {
   "cell_type": "code",
   "execution_count": null,
   "id": "bff7c5bd",
   "metadata": {},
   "outputs": [],
   "source": [
    "#subset data set for social info\n",
    "\n",
    "\n",
    "social_subset = admin_stats_reproj[['district','geometry','SHAPE_Area_x', 'inhabitants', 'bezirk_nam', 'qt_soc_stats', '%unemployed', '%social_benefits',\n",
    "       '%social_housing' ,'sum_socials']]\n",
    "\n",
    "social_subset=social_subset.rename(columns={'district':'District', 'bezirk_nam':'Admin1','qt_soc_stats':'Percentile Ranking Social Status','inhabitants':'Inhabitants','sum_socials':'Sum of Social Statistics','SHAPE_Area_x':'District Area'})\n",
    "social_subset.dropna(inplace=True);\n",
    "social_subset['Population Density'] =social_subset['Inhabitants']/social_subset['District Area']*100"
   ]
  },
  {
   "cell_type": "code",
   "execution_count": null,
   "id": "a3d1facd",
   "metadata": {},
   "outputs": [],
   "source": [
    "#subset data set for noise info\n",
    "noise_subset = admin_stats_reproj[['district','geometry','bezirk_nam', 'weighted_area_percentile', 'weighted_area']]\n",
    "noise_subset=noise_subset.rename(columns={'district':'District', 'bezirk_nam':'Admin1','weighted_area_percentile':'Percentile Ranking Noise Pollution','weighted_area':'Noise affected area'})\n",
    "noise_subset.dropna(inplace=True);\n"
   ]
  },
  {
   "cell_type": "code",
   "execution_count": null,
   "id": "5e33bfda",
   "metadata": {},
   "outputs": [],
   "source": [
    "# subset dataframe without geometry column to enable plotting in hvplot\n",
    "stats_reduced = admin_stats[['district', 'bezirk_nam','z_area_per_inhbt','qt_soc_stats','%unemployed', '%social_benefits','%social_housing', 'weighted_area_percentile', 'z_area_per_inhbt_percentile','MEDIAN_percentile','env_multiple_burden_percentile', 'combined_indicators_percentile', 'z_perc_green_area', 'green_space_count','weighted_area']]\n",
    "stats_reduced=stats_reduced.rename(columns={\"district\":\"District\",\"bezirk_nam\":\"Admin1\",\"z_area_per_inhbt\":\"green area per inhabitant(sqm)\",\"weighted_area_percentile\":\"Noise Pollution\",\"z_area_per_inhbt_percentile\":\"Green Area Supply\" ,\"MEDIAN_percentile\":\"Thermal Burden\",\"env_multiple_burden_percentile\":\"Multiple Environmental Burden\", \"combined_indicators_percentile\":\"Combined Indicators\",\"z_perc_green_area\":\"%green area per district\", \"green_space_count\":\"Count of Green Areas per District\",\"weighted_area\":\"noise affected housing area\",\"qt_soc_stats\":\"Social Status\"})"
   ]
  },
  {
   "cell_type": "code",
   "execution_count": null,
   "id": "55a7c8d3",
   "metadata": {},
   "outputs": [],
   "source": [
    "stats_reduced_I = stats_reduced.interactive # makes dataframe interactive"
   ]
  },
  {
   "cell_type": "markdown",
   "id": "506896ea",
   "metadata": {},
   "source": [
    "Creation of Scatterplot"
   ]
  },
  {
   "cell_type": "code",
   "execution_count": null,
   "id": "da3feb67",
   "metadata": {},
   "outputs": [],
   "source": [
    "#scatter plot\n",
    "x = pn.widgets.Select(name='Social Statistics', options=['%social_housing', '%unemployed', '%social_benefits'])\n",
    "y = pn.widgets.Select(name='Environmental Statistics', options=['green area per inhabitant(sqm)', '%green area per district', 'noise affected housing area'])\n",
    "\n",
    "plot_scatter = stats_reduced_I.hvplot(x=x, y=y, kind='scatter', colorbar=False, width=400,alpha=0.5,by=\"Admin1\")\n",
    "\n",
    "plot_scatter_layout = pn.Column(\n",
    "    pn.pane.Markdown(\"### Select combinations of different variables to show scatter plot\", styles={'font-weight': 'bold', 'color':'grey'}),\n",
    "    plot_scatter\n",
    "    \n",
    ")\n",
    "\n",
    "#plot_scatter_layout.show()"
   ]
  },
  {
   "cell_type": "markdown",
   "id": "51ba80e9",
   "metadata": {},
   "source": [
    "Create interactive maps with  select option"
   ]
  },
  {
   "cell_type": "code",
   "execution_count": null,
   "id": "a2adb5bf",
   "metadata": {},
   "outputs": [],
   "source": [
    "# Create the map viewer\n",
    "class MapViewer:\n",
    "    def __init__(self):\n",
    "        self.map_type = 'Integrated_Indicator'\n",
    "        self.view = pn.pane.HTML()\n",
    "\n",
    "    def update_view(self):\n",
    "        if self.map_type == 'Integrated_Indicator':\n",
    "            self.view.object = Integrated_Indicator._repr_html_()\n",
    "        elif self.map_type == 'Green_Indicator':\n",
    "            self.view.object = Green_Indicator._repr_html_()\n",
    "        elif self.map_type == 'Social_Indicator':\n",
    "            self.view.object = Social_Indicator._repr_html_()\n",
    "        elif self.map_type == 'Noise_Indicator':\n",
    "            self.view.object = Noise_Indicator._repr_html_()\n",
    "            \n",
    "            \n",
    "            \n",
    "    def update_map_type(self, event):\n",
    "        self.map_type = event.new\n",
    "        self.update_view()\n",
    "\n",
    "\"\"\"------------------------#create folium maps - different statistics                \"\"\"\n",
    "\n",
    "#define layer names\n",
    "layer_integrated = 'Classified Indicators'\n",
    "layer_greens =\"Green Areas\"\n",
    "layer_social =\"Social Statistics \"\n",
    "layer_noise = \"Noise Pollution Statistics\"\n",
    "\n",
    "\n",
    "#create central map object\n",
    "Integrated_Indicator =folium.Map(location=[53.55, 9.99], zoom_start=20)\n",
    "\n",
    "#pn.pane.plot.Folium(m, height=200)\n",
    "\n",
    "\n",
    "#create individual maps\n",
    "Integrated_Indicator =stats_to_plot_reproj.explore('Integrated Environmental & Social Status Index', # integrated map\n",
    "                   cmap='RdPu', name=layer_integrated# \n",
    "                     \n",
    "                  )\n",
    "\n",
    "pn.pane.plot.Folium(Integrated_Indicator, height=200)\n",
    "\n",
    "\n",
    "Green_Indicator = folium.Map(location=[53.55, 9.99], zoom_start=14)\n",
    "Green_Indicator = greens_subset.explore('Percentile Ranking Green Area per inhabitant', # green stats map\n",
    "                   cmap='YlGn', name=layer_greens# color\n",
    "                  )\n",
    "\n",
    "\n",
    "Social_Indicator = folium.Map(location=[53.55, 9.99], zoom_start=14)\n",
    "Social_Indicator = social_subset.explore('Percentile Ranking Social Status', # social stats map\n",
    "                   cmap='Oranges', name=layer_social# color\n",
    "                  )\n",
    "\n",
    "\n",
    "Noise_Indicator = folium.Map(location=[53.55, 9.99], zoom_start=14)\n",
    "Noise_Indicator=noise_subset.explore('Percentile Ranking Noise Pollution', cmap='Blues', name=layer_noise)\n",
    "\n",
    "\n",
    "\n",
    "\n",
    "#background layers\n",
    "folium.TileLayer(tiles=\"CartoDB positron\", overlay=True).add_to(Integrated_Indicator)\n",
    "folium.TileLayer(\"OpenStreetMap\").add_to(Integrated_Indicator)\n",
    "\n",
    "folium.LayerControl().add_to(Integrated_Indicator)\n",
    "\n",
    "\n",
    "folium.TileLayer(tiles=\"CartoDB positron\", overlay=True).add_to(Social_Indicator)\n",
    "folium.TileLayer(\"OpenStreetMap\").add_to(Social_Indicator)\n",
    "folium.LayerControl().add_to(Social_Indicator)\n",
    "\n",
    "folium.TileLayer(tiles=\"CartoDB positron\", overlay=True).add_to(Green_Indicator)\n",
    "folium.TileLayer(\"OpenStreetMap\").add_to(Green_Indicator)\n",
    "folium.LayerControl().add_to(Green_Indicator)\n",
    "\n",
    "folium.TileLayer(tiles=\"CartoDB positron\", overlay=True).add_to(Noise_Indicator)\n",
    "folium.TileLayer(\"OpenStreetMap\").add_to(Noise_Indicator)\n",
    "folium.LayerControl().add_to(Noise_Indicator)\n",
    "\n",
    "\n",
    "\n",
    "\n",
    "# Set width , height for the map layout\n",
    "map_layout_width = 1000\n",
    "map_layout_height = 400\n",
    "\n",
    "# Create the map viewer\n",
    "map_viewer = MapViewer()\n",
    "\n",
    "pn.pane.plot.Folium(Green_Indicator, height=400)\n",
    "pn.pane.plot.Folium(Noise_Indicator, height=400)\n",
    "\n",
    "\n",
    "# Create the radio buttons\n",
    "indicators_radio = pn.widgets.RadioButtonGroup(\n",
    "    name='map',\n",
    "    options=['Integrated_Indicator', 'Green_Indicator','Social_Indicator','Noise_Indicator'],\n",
    "    button_type='default'\n",
    ")\n",
    "\n",
    "# Set up the event handler for radio button changes\n",
    "indicators_radio.param.watch(map_viewer.update_map_type, 'value')\n",
    "\n",
    "# Set up the initial view\n",
    "map_viewer.update_view()\n",
    "\n",
    "# Create a panel layout with the radio buttons and the map view\n",
    "#map_layout = pn.Column(indicators_radio, map_viewer.view, pn.pane.plot.Folium(height=200))\n",
    "map_layout = pn.Column(indicators_radio, map_viewer.view, sizing_mode='fixed', width=map_layout_width, height=map_layout_height)\n",
    "\n",
    "# Show the panel layout\n",
    "#map_layout.show()\n",
    "\n"
   ]
  },
  {
   "cell_type": "markdown",
   "id": "453ad60b",
   "metadata": {},
   "source": [
    "Create interactive table "
   ]
  },
  {
   "cell_type": "code",
   "execution_count": null,
   "id": "642d39fe",
   "metadata": {},
   "outputs": [],
   "source": [
    "# Get the unique district names\n",
    "district_names = list(stats_reduced['District'].unique())\n",
    "\n",
    "# Create the dropdown widget for selecting the district\n",
    "district_dropdown = pn.widgets.Select(name='Select District', options=district_names)\n",
    "\n",
    "# Define a callback function for filtering the data based on the selected district\n",
    "def filter_data(event):\n",
    "    selected_district = district_dropdown.value\n",
    "    filtered_data = stats_reduced[stats_reduced['District'] == selected_district]\n",
    "    stats_table.value = filtered_data\n",
    "\n",
    "# Register the callback function with the dropdown widget\n",
    "district_dropdown.param.watch(filter_data, 'value')\n",
    "\n",
    "# Create the interactive table\n",
    "stats_table = pn.widgets.Tabulator(stats_reduced, pagination='remote', page_size=10, sizing_mode='stretch_width')\n",
    "\n",
    "# Create the \"Reset\" button\n",
    "reset_button = pn.widgets.Button(name='Reset')\n",
    "\n",
    "# Define a callback function for resetting the filter\n",
    "def reset_filter(event):\n",
    "    district_dropdown.value = None\n",
    "    stats_table.value = stats_reduced\n",
    "\n",
    "# Register the callback function with the \"Reset\" button\n",
    "reset_button.on_click(reset_filter)\n",
    "# Create the layout with the dropdown and table\n",
    "table_layout = pn.Column(district_dropdown, reset_button, stats_table)\n",
    "\n",
    "# Display the layout\n",
    "#table_layout\n"
   ]
  },
  {
   "cell_type": "markdown",
   "id": "9f8d5db9",
   "metadata": {},
   "source": [
    "Create Plot to show occurance of Percentile Ranking"
   ]
  },
  {
   "cell_type": "code",
   "execution_count": null,
   "id": "98173e79",
   "metadata": {},
   "outputs": [],
   "source": [
    "#counts the number of occurances of each individual indicator per percentile ranking\n",
    "counts_occurrence = pd.DataFrame({\n",
    "    'qt_soc_stats': stats_to_plot['qt_soc_stats'].value_counts(),\n",
    "    'weighted_area_percentile': stats_to_plot['weighted_area_percentile'].value_counts(),\n",
    "    'z_area_per_inhbt_percentile': stats_to_plot['z_area_per_inhbt_percentile'].value_counts(),\n",
    "    'MEDIAN_percentile': stats_to_plot['MEDIAN_percentile'].value_counts(),\n",
    "\n",
    "})\n",
    "counts_occurrence"
   ]
  },
  {
   "cell_type": "code",
   "execution_count": null,
   "id": "a0fd41c6",
   "metadata": {},
   "outputs": [],
   "source": [
    "#create bar chart of occurencess\n",
    "bar_chart = counts_occurrence.hvplot.bar(xlabel='Ranking', ylabel='Count', title='Counts of Status Class',\n",
    "                                          stacked=True, legend='top_right', width=800, height=500)\n",
    "bar_plot = pn.panel(bar_chart)\n",
    "#bar_plot.show()\n"
   ]
  },
  {
   "cell_type": "markdown",
   "id": "d7223554",
   "metadata": {},
   "source": [
    "#### Prepare Layout"
   ]
  },
  {
   "cell_type": "code",
   "execution_count": null,
   "id": "eec84992",
   "metadata": {},
   "outputs": [],
   "source": [
    "# create the dashboard with sidebar\n",
    "\n",
    "text = \"This dashboard visualizes the results of an analysis related to the topic of environmental justice. The study analyzed and classified four indicators to assess questions in relation to the topic of environmental justice within the city of Hamburg, Germany. The four core indicators are: Social Status, Green Area Supply, Thermal Burden and Noise Pollution. Level of spatial analysis are districts for the City of Hamburg.\"\n",
    "text3= \"https://github.com/CharlotteGIS/egm722_project/tree/main\"\n",
    "\n",
    "dashboard = pn.template.FastListTemplate(\n",
    "\n",
    "    title='Dashboard of Environmental and Social Indicators', \n",
    "    sidebar=[\n",
    "        pn.pane.Markdown(\"# Spatial Analysis of Environmental & Social Indicators\"), \n",
    "        pn.pane.JPG('data/OIP.jpg', height=80),\n",
    "        text,\n",
    "        pn.pane.Markdown(\"##### Click on the Buttons on top of the Page to initialize interactive maps\"),\n",
    "        pn.pane.PNG('data/map_integrated_indicator.png', height=200),\n",
    "        pn.pane.Markdown(\"##### Head over to the GitHub Repository to access the python code and for more explanation on the methdology and data\"), \n",
    "        text3,\n",
    "    ],\n",
    "    main=[\n",
    "        pn.Row(\n",
    "            pn.Column(\n",
    "               #pn.layout.HSpacer(100),  # Add spacer to align content to the center\n",
    "                indicators_radio,\n",
    "                map_viewer.view,\n",
    "                pn.layout.HSpacer(),  # Add spacer to align content to the center\n",
    "                sizing_mode=\"stretch_width\"\n",
    "            )),\n",
    "    \n",
    "                    \n",
    "        pn.Row(\n",
    "            pn.Column(\n",
    "            plot_scatter_layout,\n",
    "            sizing_mode=\"stretch_width\"),\n",
    "            pn.Column(\n",
    "            bar_plot,\n",
    "            sizing_mode=\"stretch_width\"),\n",
    "            \n",
    "            \n",
    "        ),\n",
    "        pn.Row(\n",
    "            pn.Column(\n",
    "                table_layout,\n",
    "                sizing_mode=\"stretch_width\"\n",
    "            )\n",
    "        )\n",
    "    ],\n",
    "    accent_base_color=\"#063970\",\n",
    "    header_background=\"#2596be\",\n",
    ")\n",
    "dashboard.show()\n",
    "\n",
    "#dashboard.servable()\n"
   ]
  },
  {
   "cell_type": "code",
   "execution_count": null,
   "id": "49b4483c",
   "metadata": {},
   "outputs": [],
   "source": []
  }
 ],
 "metadata": {
  "kernelspec": {
   "display_name": "Python 3 (ipykernel)",
   "language": "python",
   "name": "python3"
  },
  "language_info": {
   "codemirror_mode": {
    "name": "ipython",
    "version": 3
   },
   "file_extension": ".py",
   "mimetype": "text/x-python",
   "name": "python",
   "nbconvert_exporter": "python",
   "pygments_lexer": "ipython3",
   "version": "3.9.16"
  }
 },
 "nbformat": 4,
 "nbformat_minor": 5
}
