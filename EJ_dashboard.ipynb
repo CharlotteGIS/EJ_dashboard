{
 "cells": [
  {
   "cell_type": "code",
   "execution_count": null,
   "id": "3e9f9e93",
   "metadata": {},
   "outputs": [],
   "source": [
    "import pandas as pd\n",
    "import geopandas as gpd\n",
    "import folium\n",
    "from folium.plugins import Fullscreen\n",
    "#import seaborn\n",
    "import holoviews\n",
    "import hvplot.pandas \n",
    "import panel as pn\n",
    "import matplotlib as plt\n",
    "%matplotlib inline\n",
    "pn.extension('tabulator')\n",
    "#from panel import theme\n",
    "#from IPython.display import display\n",
    "#import os"
   ]
  },
  {
   "cell_type": "code",
   "execution_count": null,
   "id": "4c60cc29",
   "metadata": {},
   "outputs": [],
   "source": [
    "stats = pd.read_csv(\"data/stats_merged.csv\",encoding=\"utf-8\") # social statistics\n",
    "admin = gpd.read_file(\"data/Stadtteile_Hamburg.shp\",crs=\"EPSG:25832\") # boundary dataset \n",
    "noise = pd.read_csv(\"data/admin_noise.csv\",encoding=\"utf-8\") # social statistics\n",
    "\n",
    "#combined_indicators = pd.read_csv(\"data/combined_indicators.csv\",encoding=\"utf-8\") # social statistics"
   ]
  },
  {
   "cell_type": "code",
   "execution_count": null,
   "id": "1fee7823",
   "metadata": {},
   "outputs": [],
   "source": [
    "#drop unrelevant columns\n",
    "stats.drop(columns=['geometry_x','geometry_y', 'geometry','bezirk_nam_x', 'bezirk_nam_y', 'ZONE_CODE', 'COUNT', 'AREA', 'MIN','MAX', 'RANGE'], inplace=True);\n"
   ]
  },
  {
   "cell_type": "code",
   "execution_count": null,
   "id": "b449d77b",
   "metadata": {},
   "outputs": [],
   "source": [
    "admin_stats = pd.merge(admin, stats, left_index=True, right_index=True) \n"
   ]
  },
  {
   "cell_type": "code",
   "execution_count": null,
   "id": "45b04a47",
   "metadata": {},
   "outputs": [],
   "source": [
    "\"\"\"-----Function to add a status column  --- \"\"\"\n",
    "\n",
    "def add_status_column(df, perc_col): #The function will be used for all of the different indicators)\n",
    "    \"\"\"The function adds a text column to the dataframe. The value of the text column is assigned based\n",
    "        on the values of the classified \"_percentile column\"\n",
    "\n",
    "    Parameters: \n",
    "        df : dataframe used for the classification\n",
    "        perc_col: Column used to assign te the text values: NEEDS to be a categorial variable, resulting from the \n",
    "        \"percentile functions\" Has to take the classified column:result of func percentile as input\n",
    "        \n",
    "    Returns:\n",
    "        A dataframe with a new column called \"status\" containing strings with the values from \"very low\" to \"very high\"\n",
    "        Assignes the names based on the values in the perc_col\n",
    "        \n",
    "    Apply the functin:\n",
    "        Example: add_status_column(dataframe, 'columnName') # \n",
    "\n",
    "    \"\"\"\n",
    "    df['status'] = ['very low' if x == 0 else  #creates the new column \"status and then adds text description to the corresponding value\"\n",
    "                   'low' if x == 1 else\n",
    "                   'medium' if x == 2 else\n",
    "                   'high' if x == 3 else\n",
    "                   'very high' for x in df[perc_col]]\n",
    "\n",
    "    return df.head()"
   ]
  },
  {
   "cell_type": "code",
   "execution_count": null,
   "id": "995a0445",
   "metadata": {},
   "outputs": [],
   "source": [
    "add_status_column(admin_stats, 'combined_indicators_percentile') #add a new column to the frame"
   ]
  },
  {
   "cell_type": "code",
   "execution_count": null,
   "id": "a8187482",
   "metadata": {},
   "outputs": [],
   "source": [
    "#subset dataframe\n",
    "stats_to_plot = admin_stats[['district','geometry','qt_soc_stats','status','weighted_area_percentile', 'z_area_per_inhbt_percentile','MEDIAN_percentile','env_multiple_burden_percentile', 'combined_indicators_percentile']]"
   ]
  },
  {
   "cell_type": "code",
   "execution_count": null,
   "id": "a37c2cf5",
   "metadata": {},
   "outputs": [],
   "source": [
    "#rename\n",
    "stats_to_plot_rename=stats_to_plot.rename(columns={\"district\":\"District\",\"weighted_area_percentile\":\"Noise Pollution\",\"z_area_per_inhbt_percentile\":\"Green Area Supply \",\"MEDIAN_percentile\":\"Thermal Burden\",\"env_multiple_burden_percentile\":\"Combined Environmental Burden\" , \"combined_indicators_percentile\":\"Combined Indicators\", \"status\":\"Integrated Environmental & Social Status Index\",\"qt_soc_stats\":\"Social Status\"})"
   ]
  },
  {
   "cell_type": "code",
   "execution_count": null,
   "id": "23201ce8",
   "metadata": {},
   "outputs": [],
   "source": [
    "#drop NaN and reproj to Hamburg CRS\n",
    "stats_to_plot_rename.dropna(inplace=True);\n",
    "stats_to_plot_reproj=stats_to_plot_rename.to_crs(epsg=25832)"
   ]
  },
  {
   "cell_type": "code",
   "execution_count": null,
   "id": "22d437ba",
   "metadata": {},
   "outputs": [],
   "source": [
    "stats_to_plot_reproj.columns"
   ]
  },
  {
   "cell_type": "code",
   "execution_count": null,
   "id": "1daedeed",
   "metadata": {},
   "outputs": [],
   "source": [
    "#create folium map\n",
    "layer_name = 'Classified Indicators'\n",
    "layer_noise =\"NoisePolution\"\n",
    "m = folium.Map(location=[53.55, 9.99], zoom_start=14)\n",
    "\n",
    "m = stats_to_plot_reproj.explore('Integrated Environmental & Social Status Index', # show the Distance column\n",
    "                   cmap='RdPu', name=layer_name# use the 'plasma' colormap from matplotlib\n",
    "                  )\n",
    "\n",
    "\n",
    "\n",
    "\n",
    "folium.TileLayer(tiles=\"CartoDB positron\", overlay=True).add_to(m)\n",
    "\n",
    "#folium.TileLayer(\"CartoDB positron\").add_to(m)\n",
    "folium.TileLayer(\"OpenStreetMap\").add_to(m)\n",
    "folium.TileLayer(\"Stamen Terrain\").add_to(m)\n",
    "\n",
    "folium.LayerControl().add_to(m)\n",
    "\n",
    "m"
   ]
  },
  {
   "cell_type": "code",
   "execution_count": null,
   "id": "78878291",
   "metadata": {},
   "outputs": [],
   "source": [
    "stats_grouped = admin_stats.dissolve(by='bezirk_nam');"
   ]
  },
  {
   "cell_type": "code",
   "execution_count": null,
   "id": "ca358c29",
   "metadata": {},
   "outputs": [],
   "source": []
  },
  {
   "cell_type": "code",
   "execution_count": null,
   "id": "6cc097f1",
   "metadata": {},
   "outputs": [],
   "source": [
    "# subset dataframe without geometry column to enable plotting in hvplot\n",
    "stats_reduced = admin_stats[['district', 'bezirk_nam','z_area_per_inhbt','qt_soc_stats','%unemployed', '%social_benefits','%social_housing', 'weighted_area_percentile', 'z_area_per_inhbt_percentile','MEDIAN_percentile','env_multiple_burden_percentile', 'combined_indicators_percentile', 'z_perc_green_area', 'green_space_count','weighted_area']]\n",
    "stats_reduced=stats_reduced.rename(columns={\"district\":\"District\",\"bezirk_nam\":\"Admin1\",\"z_area_per_inhbt\":\"green area per inhabitant(sqm)\",\"weighted_area_percentile\":\"Noise Pollution\",\"z_area_per_inhbt_percentile\":\"Green Area Supply\" ,\"MEDIAN_percentile\":\"Thermal Burden\",\"env_multiple_burden_percentile\":\"Multiple Environmental Burden\", \"combined_indicators_percentile\":\"Combined Indicators\",\"z_perc_green_area\":\"%green area per district\", \"green_space_count\":\"Count of Green Areas per District\",\"weighted_area\":\"noise affected housing area\",\"qt_soc_stats\":\"Social Status\"})"
   ]
  },
  {
   "cell_type": "code",
   "execution_count": null,
   "id": "edd6f42b",
   "metadata": {},
   "outputs": [],
   "source": [
    "stats_reduced_I = stats_reduced.interactive # makes dataframe interactive"
   ]
  },
  {
   "cell_type": "code",
   "execution_count": null,
   "id": "1c1f7123",
   "metadata": {},
   "outputs": [],
   "source": [
    "#scatter plot\n",
    "x = pn.widgets.Select(name='Social Statistics', options=['%social_housing', '%unemployed', '%social_benefits'])\n",
    "y = pn.widgets.Select(name='Environmental Statistics', options=['green area per inhabitant(sqm)', '%green area per district', 'noise affected housing area'])\n",
    "#kind = pn.widgets.Select(name='kind', value='scatter', options=['kde', 'scatter'])\n",
    "\n",
    "#plot = stats_reduced.hvplot(x=x, y=y, kind=kind, colorbar=False, width=600,by=\"bezirk_nam\" )\n",
    "plot_scatter = stats_reduced_I.hvplot(x=x, y=y, kind='scatter', colorbar=False, width=600,alpha=0.7,by=\"Admin1\")\n",
    "\n",
    "plot_scatter_layout = pn.Column(\n",
    "    pn.pane.Markdown(\"### Select combinations of different variables to show scatter plot\", styles={'font-weight': 'bold', 'color':'grey'}),\n",
    "    plot_scatter\n",
    "    \n",
    ")\n",
    "\n",
    "plot_scatter_layout"
   ]
  },
  {
   "cell_type": "code",
   "execution_count": null,
   "id": "80aaadab",
   "metadata": {},
   "outputs": [],
   "source": [
    "# Get the unique district names\n",
    "district_names = list(stats_reduced['District'].unique())\n",
    "\n",
    "# Create the dropdown widget for selecting the district\n",
    "district_dropdown = pn.widgets.Select(name='Select District', options=district_names)\n",
    "\n",
    "# Define a callback function for filtering the data based on the selected district\n",
    "def filter_data(event):\n",
    "    selected_district = district_dropdown.value\n",
    "    filtered_data = stats_reduced[stats_reduced['District'] == selected_district]\n",
    "    stats_table.value = filtered_data\n",
    "\n",
    "# Register the callback function with the dropdown widget\n",
    "district_dropdown.param.watch(filter_data, 'value')\n",
    "\n",
    "# Create the interactive table\n",
    "stats_table = pn.widgets.Tabulator(stats_reduced, pagination='remote', page_size=10, sizing_mode='stretch_width')\n",
    "\n",
    "# Create the \"Reset\" button\n",
    "reset_button = pn.widgets.Button(name='Reset')\n",
    "\n",
    "# Define a callback function for resetting the filter\n",
    "def reset_filter(event):\n",
    "    district_dropdown.value = None\n",
    "    stats_table.value = stats_reduced\n",
    "\n",
    "# Register the callback function with the \"Reset\" button\n",
    "reset_button.on_click(reset_filter)\n",
    "# Create the layout with the dropdown and table\n",
    "table_layout = pn.Column(district_dropdown, reset_button, stats_table)\n",
    "\n",
    "# Display the layout\n",
    "table_layout"
   ]
  },
  {
   "cell_type": "code",
   "execution_count": null,
   "id": "8b729c1a",
   "metadata": {},
   "outputs": [],
   "source": [
    "status_counts = stats.groupby('district')[['status_noise', 'status_greens', 'status_soc','env_multiple_burden','combined_indicators']].apply(lambda x: x.apply(pd.Series.value_counts)).unstack().fillna(0)\n"
   ]
  },
  {
   "cell_type": "code",
   "execution_count": null,
   "id": "4f1f812f",
   "metadata": {},
   "outputs": [],
   "source": [
    "# Radio buttons maps\n",
    "indicators_radio = pn.widgets.RadioButtonGroup(\n",
    "    name='map', \n",
    "    options=['Green', 'Noise'],\n",
    "    button_type='success'\n",
    ")\n",
    "\n",
    "indicators_radio"
   ]
  },
  {
   "cell_type": "code",
   "execution_count": null,
   "id": "9f7c7eaf",
   "metadata": {},
   "outputs": [],
   "source": []
  }
 ],
 "metadata": {
  "kernelspec": {
   "display_name": "Python 3 (ipykernel)",
   "language": "python",
   "name": "python3"
  },
  "language_info": {
   "codemirror_mode": {
    "name": "ipython",
    "version": 3
   },
   "file_extension": ".py",
   "mimetype": "text/x-python",
   "name": "python",
   "nbconvert_exporter": "python",
   "pygments_lexer": "ipython3",
   "version": "3.11.3"
  }
 },
 "nbformat": 4,
 "nbformat_minor": 5
}
