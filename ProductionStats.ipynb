{
 "cells": [
  {
   "cell_type": "code",
   "execution_count": null,
   "id": "9d915aad",
   "metadata": {},
   "outputs": [],
   "source": [
    "import pandas as pd\n",
    "import geopandas as gpd\n",
    "import folium\n",
    "from folium.plugins import Fullscreen\n",
    "#import seaborn\n",
    "import holoviews as hv\n",
    "import hvplot.pandas \n",
    "import panel as pn\n",
    "import matplotlib as plt\n",
    "%matplotlib inline\n",
    "pn.extension('tabulator')\n",
    "from panel.interact import interact\n",
    "import param\n",
    "import seaborn as sns\n",
    "pn.extension(sizing_mode=\"stretch_width\", server=True)"
   ]
  },
  {
   "cell_type": "code",
   "execution_count": null,
   "id": "9cdf38bf",
   "metadata": {},
   "outputs": [],
   "source": [
    "#gdp = pd.read_csv(\"C:/Users/charl/OneDrive/Desktop/programming/panel_dashboard/species/data/gdp.csv\",encoding=\"utf-8\",delimiter=\",\",decimal=\".\")\n",
    "cities = gpd.read_file(gpd.datasets.get_path(\"naturalearth_cities\"))\n",
    "food = pd.read_csv(\"C:/Users/charl/OneDrive/Desktop/programming/panel_dashboard/species/data/global-food.csv\",encoding=\"utf-8\",delimiter=\",\",decimal=\".\")\n",
    "continents=gpd.read_file(\"C:/Users/charl/OneDrive/Desktop/programming/panel_dashboard/species/data/World_Continents.shp\")"
   ]
  },
  {
   "cell_type": "code",
   "execution_count": null,
   "id": "a8b6bef8",
   "metadata": {},
   "outputs": [],
   "source": []
  },
  {
   "cell_type": "code",
   "execution_count": null,
   "id": "0453fb83",
   "metadata": {},
   "outputs": [],
   "source": [
    "continents_food = ['Europe', 'North America', 'South America', 'Asia', 'Africa', 'Australia'] #group by continent\n"
   ]
  },
  {
   "cell_type": "code",
   "execution_count": null,
   "id": "248980f7",
   "metadata": {},
   "outputs": [],
   "source": [
    "food_continents = food[food['Country'].isin(continents_food)]\n",
    "food_continents.fillna(0)"
   ]
  },
  {
   "cell_type": "code",
   "execution_count": null,
   "id": "d3d2ddf8",
   "metadata": {},
   "outputs": [],
   "source": [
    "food_continents_interactive=food_continents\n"
   ]
  },
  {
   "cell_type": "code",
   "execution_count": null,
   "id": "f47d2250",
   "metadata": {},
   "outputs": [],
   "source": [
    "# Radio buttons for  stats \n",
    "yaxis_food = pn.widgets.RadioButtonGroup(\n",
    "    name='Y axis', \n",
    "    options=['Production (t)','Yield (t/ha)','production__tonnes__per_capita'],\n",
    "    button_type='success'\n",
    ")\n",
    "\n",
    "    \n",
    "yaxis_food"
   ]
  },
  {
   "cell_type": "code",
   "execution_count": null,
   "id": "066b12c6",
   "metadata": {},
   "outputs": [],
   "source": [
    "food_plot = food_continents_interactive.hvplot(x='Year', by='Country', y=yaxis_food, line_width=2, title=\"Food Production\")\n",
    "\n",
    "food_plot"
   ]
  },
  {
   "cell_type": "code",
   "execution_count": null,
   "id": "a146cd92",
   "metadata": {},
   "outputs": [],
   "source": [
    "#bar plot \n",
    "food_filtered = food_continents_interactive[['Country', 'Year', 'Exports (t)', 'exports__tonnes__per_capita','Domestic supply (t)', 'domestic_supply__tonnes__per_capita','Imports (t)',\n",
    "       'imports__tonnes__per_capita','Population' ]]\n",
    "\n",
    "food_filtered_renamed=food_filtered.rename(columns={'Country':'Continent','Year':'Year','Exports (t)':'Exports(t)', 'exports__tonnes__per_capita':'Exports(t)_per_capita','Domestic supply (t)':'DomesticSupply(t)', 'domestic_supply__tonnes__per_capita':'DomesticSupply(t)_per_capita','Imports (t)':'Imports(t)','imports__tonnes__per_capita':'Imports(t)_per_capita' })\n",
    "\n",
    "#food_bar_plot = food_continents_interactive.groupby('Country',type)\n",
    "food_filtered_renamed.head()"
   ]
  },
  {
   "cell_type": "code",
   "execution_count": null,
   "id": "83f1456f",
   "metadata": {},
   "outputs": [],
   "source": [
    "trade_stats = pn.widgets.RadioButtonGroup(\n",
    "    name='Y axis', \n",
    "    options=['Exports(t)', 'Imports(t)'], \n",
    "    button_type='success'\n",
    ")"
   ]
  },
  {
   "cell_type": "code",
   "execution_count": null,
   "id": "0216f1a8",
   "metadata": {},
   "outputs": [],
   "source": [
    "trade_stats"
   ]
  },
  {
   "cell_type": "code",
   "execution_count": null,
   "id": "5810594c",
   "metadata": {},
   "outputs": [],
   "source": [
    "trade_stats_grouped= food_filtered_renamed.groupby(['Continent','Year']).sum()\n",
    "#trade_stats_grouped.reset_index(inplace=True)\n"
   ]
  },
  {
   "cell_type": "code",
   "execution_count": null,
   "id": "203ca07d",
   "metadata": {},
   "outputs": [],
   "source": [
    "trade_stats_grouped.head()"
   ]
  },
  {
   "cell_type": "code",
   "execution_count": null,
   "id": "afeea08f",
   "metadata": {},
   "outputs": [],
   "source": [
    "#bar_plot = trade_stats_grouped(kind='bar',x='Continent',y='Exports(t)', 'Imports(t)', title='Import & Export Stats by year')"
   ]
  },
  {
   "cell_type": "code",
   "execution_count": null,
   "id": "2c6a00f1",
   "metadata": {},
   "outputs": [],
   "source": [
    "plot_bars =trade_stats_grouped.hvplot(x='Year', by='Continent', y=trade_stats, line_width=2, title='Import & Export Stats per year and Continent')\n",
    "\n",
    "plot_bars"
   ]
  },
  {
   "cell_type": "code",
   "execution_count": null,
   "id": "9f45f2c2",
   "metadata": {},
   "outputs": [],
   "source": [
    "continents.head()"
   ]
  },
  {
   "cell_type": "code",
   "execution_count": null,
   "id": "7692220a",
   "metadata": {},
   "outputs": [],
   "source": []
  },
  {
   "cell_type": "code",
   "execution_count": null,
   "id": "4e96da72",
   "metadata": {},
   "outputs": [],
   "source": [
    "merged_continents= continents.merge(food_continents, left_on='CONTINENT', right_on='Country')\n"
   ]
  },
  {
   "cell_type": "code",
   "execution_count": null,
   "id": "fab0a8ec",
   "metadata": {},
   "outputs": [],
   "source": [
    "merged_continents.head()"
   ]
  },
  {
   "cell_type": "code",
   "execution_count": null,
   "id": "d25e2078",
   "metadata": {},
   "outputs": [],
   "source": [
    "\n",
    "merged_filter=merged_continents[['CONTINENT', 'geometry','Year','Production (t)', 'Yield (t/ha)','production__tonnes__per_capita']]\n",
    "#merged_years=merged_filter[merged_filter['Year'].isin(years)]\n",
    "filtered_df = merged_filter[(merged_filter['Year'] >= 2000) & (merged_filter['Year'] <= 2022)]\n"
   ]
  },
  {
   "cell_type": "code",
   "execution_count": null,
   "id": "50af5a30",
   "metadata": {},
   "outputs": [],
   "source": [
    "filtered_df.head() # filter per year for map\n",
    "filtered_year_df = filtered_df[filtered_df['Year'] == 2020]\n"
   ]
  },
  {
   "cell_type": "code",
   "execution_count": null,
   "id": "2ee04e57",
   "metadata": {},
   "outputs": [],
   "source": [
    "stats = pn.widgets.Select(name='Production Stats', options=['Yield (t/ha)', 'production__tonnes__per_capita', 'area_harvested__ha__per_capita'])\n",
    "stats"
   ]
  },
  {
   "cell_type": "code",
   "execution_count": null,
   "id": "592ee761",
   "metadata": {},
   "outputs": [],
   "source": [
    "m = filtered_year_df.explore('Yield (t/ha)', # show the Distance column\n",
    "                   cmap='BuPu', # use the 'plasma' colormap from matplotlib\n",
    "                   legend_kwds={'caption': 'Colormap based on Yield t(ha) for the year 2020'} # set the caption to a longer explanation\n",
    "                  )\n",
    "cities.explore(m=m,  color='grey')\n",
    "m"
   ]
  },
  {
   "cell_type": "code",
   "execution_count": null,
   "id": "5a102953",
   "metadata": {},
   "outputs": [],
   "source": [
    "grouped_year=food_continents_interactive.groupby(['Country','Year']).sum()\n",
    "\n",
    "grouped_year_interactive =grouped_year"
   ]
  },
  {
   "cell_type": "code",
   "execution_count": null,
   "id": "d5296085",
   "metadata": {},
   "outputs": [],
   "source": [
    "#scatter plot\n",
    "x = pn.widgets.Select(name='Production Statistics', options=['Land Use (ha)', 'Yield (t/ha)', 'area_harvested__ha__per_capita'])\n",
    "y = pn.widgets.Select(name='Food Supply Statistics', options=['Food (t)', 'food__tonnes__per_capita', 'Food supply (g per capita per day)'])\n",
    "\n",
    "plot_scatter = grouped_year_interactive.hvplot(x=x, y=y, kind='scatter', colorbar=False, width=400,alpha=0.5,by=\"Country\")\n",
    "\n",
    "plot_scatter_layout = pn.Column(\n",
    "    pn.pane.Markdown(\"### Select combinations of different variables grouped by year to show scatter plot\", styles={'font-weight': 'bold', 'color':'grey'}),\n",
    "    x,y, plot_scatter\n",
    "    \n",
    ")"
   ]
  },
  {
   "cell_type": "code",
   "execution_count": null,
   "id": "b4635965",
   "metadata": {},
   "outputs": [],
   "source": [
    "plot_scatter_layout"
   ]
  },
  {
   "cell_type": "code",
   "execution_count": null,
   "id": "aee334a7",
   "metadata": {},
   "outputs": [],
   "source": [
    "@pn.cache  # gapminder data\n",
    "def get_dataset():\n",
    "    url = 'https://raw.githubusercontent.com/plotly/datasets/master/gapminderDataFiveYear.csv'\n",
    "    return pd.read_csv(url)\n",
    "\n",
    "dataset = get_dataset()\n",
    "\n",
    "YEARS = [int(year) for year in dataset.year.unique()]\n",
    "\n",
    "#dataset.tail(10)"
   ]
  },
  {
   "cell_type": "code",
   "execution_count": null,
   "id": "2da3892b",
   "metadata": {},
   "outputs": [],
   "source": [
    "#dashboard layout using Template\n",
    "text=\"A simple dashboard to practice visualizations using the Panel Framework\"\n",
    "template = pn.template.FastListTemplate(\n",
    "    title='Agricultural Production Statistics', \n",
    "    sidebar=[pn.pane.Markdown(\"# Dashboard showing agricultural production statistics by continent and year\"),\n",
    "             text,\n",
    "             pn.pane.Markdown(\"#### Data from Our World in Data.https://ourworldindata.org\"), \n",
    "              ],\n",
    "    main=[\n",
    "        pn.Row(\n",
    "            pn.Column(\n",
    "                yaxis_food,\n",
    "                food_plot,\n",
    "                sizing_mode=\"stretch_width\"),\n",
    "                plot_scatter_layout,\n",
    "                sizing_mode=\"stretch_width\"),\n",
    "    \n",
    "        \n",
    "        pn.Row(\n",
    "            pn.Column(\n",
    "            pn.pane.plot.Folium(m, height=400),\n",
    "            sizing_mode=\"stretch_width\"),\n",
    "            pn.Column(\n",
    "            trade_stats,\n",
    "            plot_bars,  \n",
    "           \n",
    "       \n",
    "        ))\n",
    "    ] ,   \n",
    "            header_background=\"#6b8e23\",\n",
    "\n",
    ")\n",
    "        \n",
    "        \n",
    "        \n",
    "template.show()\n",
    "\n"
   ]
  },
  {
   "cell_type": "code",
   "execution_count": null,
   "id": "421e61be",
   "metadata": {},
   "outputs": [],
   "source": []
  }
 ],
 "metadata": {
  "kernelspec": {
   "display_name": "Python 3 (ipykernel)",
   "language": "python",
   "name": "python3"
  },
  "language_info": {
   "codemirror_mode": {
    "name": "ipython",
    "version": 3
   },
   "file_extension": ".py",
   "mimetype": "text/x-python",
   "name": "python",
   "nbconvert_exporter": "python",
   "pygments_lexer": "ipython3",
   "version": "3.11.3"
  }
 },
 "nbformat": 4,
 "nbformat_minor": 5
}
